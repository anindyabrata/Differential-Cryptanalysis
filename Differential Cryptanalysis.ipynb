{
 "cells": [
  {
   "cell_type": "markdown",
   "metadata": {},
   "source": [
    "Project: Differential Cryptanalysis\n",
    "======\n",
    "### By\n",
    "### Anindya Brata Choudhury"
   ]
  },
  {
   "cell_type": "markdown",
   "metadata": {},
   "source": [
    "The following code is a submitted as a solution for Applied cryptography Jan2021 course project. This file serves as both the code and README file requirements for the project. It implements differential cryptanalysis as described in [this document](https://www.engr.mun.ca/~howard/PAPERS/ldc_tutorial.pdf)"
   ]
  },
  {
   "cell_type": "markdown",
   "metadata": {},
   "source": [
    "## Installation\n",
    "To run the code, install jupyter notebook by following the steps given [here](https://jupyter.org/install)"
   ]
  },
  {
   "cell_type": "markdown",
   "metadata": {},
   "source": [
    "## Imports and Miscellaneous functions\n",
    "\n",
    "This first section contains imported libraries and miscellaneous utility functions that are not important to the main project. They only help simplify the rest of the code.\n",
    "\n",
    "[Click here to skip ahead to the main code](#Setup)"
   ]
  },
  {
   "cell_type": "code",
   "execution_count": 1,
   "metadata": {
    "scrolled": true
   },
   "outputs": [],
   "source": [
    "from fractions import Fraction\n",
    "from collections import defaultdict\n",
    "from itertools import product\n",
    "import random\n",
    "\n",
    "def print_table(data):\n",
    "    s = \"{:>3} \" * len(data[0])\n",
    "    print(\"Input\\Output\", s.format(*[hx for hx in range(16)]), \"\\n\")\n",
    "    for i, row in enumerate(data):\n",
    "        print(\"{:<12}\".format(i), s.format(*row))\n",
    "        \n",
    "def hex_to_binlist(h):\n",
    "    # Converts a single hexadecimal number to binary tuple\n",
    "    return tuple([1 if h&(1<<i) > 0 else 0 for i in range(4)][::-1])\n",
    "\n",
    "#print(hex_to_binlist(0x5))\n",
    "\n",
    "def binlist_to_hex(bl):\n",
    "    # Converts binary tuple to a single hexadecimal number \n",
    "    hx = 0\n",
    "    for b in bl:\n",
    "        hx = hx << 1\n",
    "        hx = hx | b\n",
    "    return hx\n",
    "\n",
    "#print(binlist_to_hex((0,1,1,0)))\n",
    "\n",
    "def hexlist_to_binlist(hl):\n",
    "    # Converts a tuple of hexadecimal numbers to binary\n",
    "    bl = list()\n",
    "    for h in hl:\n",
    "        bl.extend(hex_to_binlist(h))\n",
    "    return tuple(bl)\n",
    "\n",
    "#print(hexlist_to_binlist((0,0xB, 0, 0)))\n",
    "\n",
    "def binlist_to_hexlist(bl):\n",
    "    # Converts a tuple of binary numbers to hexadecimal values\n",
    "    return tuple((binlist_to_hex(bl[i:i+4]) for i in range(0, len(bl), 4)))\n",
    "\n",
    "#print(binlist_to_hexlist((0,1,1,0,0,0,0,1)))\n",
    "\n",
    "def xor_list(l1, l2):\n",
    "    # Returns the XOR of two lists of numbers\n",
    "    # Returns 0 if any of the XOR operands are not numbers ('unknown')\n",
    "    return tuple((hx1^hx2 if type(hx1) is int and type(hx2) is int else 0 for hx1, hx2 in zip(l1, l2)))\n",
    "\n",
    "#print(xor_list((1,2,1,2), (3,3,3,3)))"
   ]
  },
  {
   "cell_type": "markdown",
   "metadata": {},
   "source": [
    "## Setup\n",
    "In this section, the constant values are defined, basic operations are implemented and basic encryption and decryption algorithms for the toy cipher are implemented. This section doesn't contain anything specific to cryptanalysis.\n",
    "\n",
    "To run this code, change the key in the code cell below to a new key, then run the whole notebook. The cryptanalysis attack will run and find the new key."
   ]
  },
  {
   "cell_type": "markdown",
   "metadata": {},
   "source": [
    "### Input and constants\n",
    "Input/Output mapping for the SBoxes are contained in the SMap tuple.\n",
    "Input/Output bit's position mapping is contained in the PMap tuple.\n",
    "A tuple containing 5 16-bit keys are randomly assigned as input K.\n",
    "This is the key for 4 round toy cipher that the cryptanalysis attack will try to guess.\n",
    "Replace the value in K with secret input value of the cipher.\n",
    "The cryptanalysis part of the code will not use K in any step other than for chosen plaintext attack, where it is used in encryption operation to generate plaintext-ciphertext pairs."
   ]
  },
  {
   "cell_type": "code",
   "execution_count": 2,
   "metadata": {},
   "outputs": [],
   "source": [
    "K = (\n",
    "    (0xC, 0x9, 0x0, 0x8),\n",
    "    (0x3, 0xF, 0xA, 0xE),\n",
    "    (0x5, 0x6, 0x0, 0x1),\n",
    "    (0x6, 0x5, 0x2, 0x7),\n",
    "    (0x3, 0x2, 0xA, 0x4),\n",
    ")\n",
    "\n",
    "#         0    1    2    3    4    5    6    7    8    9   10   11   12   13   14   15\n",
    "SMap = (0xE, 0x4, 0xD, 0x1, 0x2, 0xF, 0xB, 0x8, 0x3, 0xA, 0x6, 0xC, 0x5, 0x9, 0x0, 0x7)\n",
    "\n",
    "#        1   2   3   4   5   6   7   8   9  10  11  12  13  14  15  16\n",
    "PMap = ( 1,  5,  9, 13,  2,  6, 10, 14,  3,  7, 11, 15,  4,  8, 12, 16)"
   ]
  },
  {
   "cell_type": "markdown",
   "metadata": {},
   "source": [
    "### Basic Operations\n",
    "In this section, the basic substitution, permutation and add-key operations are implemented. These functions are used in the next step and simplifies the implementation of encryption and decryption operations."
   ]
  },
  {
   "cell_type": "code",
   "execution_count": 3,
   "metadata": {},
   "outputs": [],
   "source": [
    "def substitution_op(hexval, smap=SMap):\n",
    "    # Returns SBox output given SBox input and SBox I/O mapping\n",
    "    return smap[hexval] if type(hexval) is int else 0\n",
    "\n",
    "#print(substitution_op(0xB))\n",
    "#print(substitution_op(\"Q\"))\n",
    "\n",
    "def substitution_row(hexlist, smap=SMap):\n",
    "    # Returns list of SBox outputs given list of SBox inputs and SBox I/O mapping\n",
    "    return tuple([substitution_op(hx, smap=smap) for hx in hexlist])\n",
    "\n",
    "#print(substitution_row((1,2,\"Q\",0)))\n",
    "\n",
    "def reverse_substitution_row(hexlist, smap=SMap):\n",
    "    # Returns list of SBox inputs given list of SBox outputs and SBox I/O mapping\n",
    "    # Used in decryption\n",
    "    smap_copy, smap = smap, list(smap)\n",
    "    for i, v in enumerate(smap_copy):\n",
    "        smap[v] = i\n",
    "    return substitution_row(hexlist, smap=tuple(smap))\n",
    "\n",
    "#print(reverse_substitution_row((4,13,\"Q\",14)))\n",
    "\n",
    "def permutation_row(hexlist, pmap=PMap):\n",
    "    # Returns output for permutation step given input and Permutation bit position mapping\n",
    "    ln = len(hexlist) * 4\n",
    "    result = [0] * ln\n",
    "    bl = hexlist_to_binlist(hexlist)\n",
    "    for i in range(ln):\n",
    "        result[pmap[i] - 1] = bl[i]\n",
    "    return binlist_to_hexlist(tuple(result))\n",
    "\n",
    "#print(permutation_row((0, 2, 0, 0)))\n",
    "\n",
    "def reverse_permutation_row(hexlist, pmap=PMap):\n",
    "    # Returns input for permutation step given output and Permutation bit position mapping\n",
    "    # Used in decryption\n",
    "    pmap_0_base, pmap = [p - 1 for p in pmap], list(pmap)\n",
    "    for i, v in enumerate(pmap_0_base):\n",
    "        pmap[v] = i + 1\n",
    "    return permutation_row(hexlist, pmap=tuple(pmap))\n",
    "\n",
    "#print(permutation_row((0, 0, 4, 0)))\n",
    "\n",
    "def add_key(hexlist, key):\n",
    "    # Used to XOR round input/output with round key\n",
    "    return xor_list(hexlist, key)\n",
    "\n",
    "#print(add_key((1, \"Q\", 1, 2), (3,3,3,\"Q\")))"
   ]
  },
  {
   "cell_type": "markdown",
   "metadata": {},
   "source": [
    "### SPN Encryption Operation"
   ]
  },
  {
   "cell_type": "code",
   "execution_count": 4,
   "metadata": {},
   "outputs": [],
   "source": [
    "def spn_encrypt(P, rounds=4, Key=K):\n",
    "    # Returns Ciphertext given Plaintext, number of rounds, and key\n",
    "    # Input key K is used when value of Key not specified\n",
    "    C = P\n",
    "    for r in range(rounds):\n",
    "        C = add_key(C, Key[r])\n",
    "        C = substitution_row(C)\n",
    "        if r < rounds - 1: # Permutation operation is skipped for last round\n",
    "            C = permutation_row(C)\n",
    "    C = add_key(C, Key[rounds]) # Adding last round key\n",
    "    return C\n",
    "\n",
    "def spn_decrypt(C, rounds=4, Key=K):\n",
    "    # Returns Plaintext given Ciphertext, number of rounds, and key\n",
    "    # Input key K is used when value of Key not specified\n",
    "    P = add_key(C, Key[rounds]) # Adding last round key\n",
    "    k = [reverse_permutation_row(ki) for ki in Key[:-1]] # All round keys other than last are permuted before use in decryption\n",
    "    for r in range(rounds - 1, -1, -1):\n",
    "        if r < rounds - 1: # Permutation operation is skipped for last round\n",
    "            P = reverse_permutation_row(P)\n",
    "        P = reverse_substitution_row(P)\n",
    "        P = add_key(P, k[r])\n",
    "    return P\n",
    "\n",
    "# p = [1,2,3,4]\n",
    "# c = spn_encrypt(p)\n",
    "# p = spn_decrypt(c)\n",
    "# print(p,c)"
   ]
  },
  {
   "cell_type": "markdown",
   "metadata": {},
   "source": [
    "## Cryptanalysis"
   ]
  },
  {
   "cell_type": "markdown",
   "metadata": {},
   "source": [
    "### SBox difference pair probabilities\n",
    "By iterating through all possible values for two inputs (x1 and x2) of an SBox, we find frequencies (and thus probabilities) for all SBox difference input/output pairs."
   ]
  },
  {
   "cell_type": "code",
   "execution_count": 5,
   "metadata": {},
   "outputs": [
    {
     "name": "stdout",
     "output_type": "stream",
     "text": [
      "The following table shows the frequency of different difference pairs for a single SBox:\n",
      "\n",
      "Input\\Output   0   1   2   3   4   5   6   7   8   9  10  11  12  13  14  15  \n",
      "\n",
      "0             16   0   0   0   0   0   0   0   0   0   0   0   0   0   0   0 \n",
      "1              0   0   0   2   0   0   0   2   0   2   4   0   4   2   0   0 \n",
      "2              0   0   0   2   0   6   2   2   0   2   0   0   0   0   2   0 \n",
      "3              0   0   2   0   2   0   0   0   0   4   2   0   2   0   0   4 \n",
      "4              0   0   0   2   0   0   6   0   0   2   0   4   2   0   0   0 \n",
      "5              0   4   0   0   0   2   2   0   0   0   4   0   2   0   0   2 \n",
      "6              0   0   0   4   0   4   0   0   0   0   0   0   2   2   2   2 \n",
      "7              0   0   2   2   2   0   2   0   0   2   2   0   0   0   0   4 \n",
      "8              0   0   0   0   0   0   2   2   0   0   0   4   0   4   2   2 \n",
      "9              0   2   0   0   2   0   0   4   2   0   2   2   2   0   0   0 \n",
      "10             0   2   2   0   0   0   0   0   6   0   0   2   0   0   4   0 \n",
      "11             0   0   8   0   0   2   0   2   0   0   0   0   0   2   0   2 \n",
      "12             0   2   0   0   2   2   2   0   0   0   0   2   0   6   0   0 \n",
      "13             0   4   0   0   0   0   0   4   2   0   2   0   2   0   2   0 \n",
      "14             0   0   2   4   2   0   0   0   6   0   0   0   0   0   2   0 \n",
      "15             0   2   0   0   6   0   0   0   0   4   0   2   0   0   2   0 \n"
     ]
    }
   ],
   "source": [
    "differential_prob = defaultdict(int)\n",
    "\n",
    "for x1 in range(16):\n",
    "    for x2 in range(16):\n",
    "        y1, y2 = substitution_op(x1), substitution_op(x2)\n",
    "        dx, dy = x1 ^ x2, y1 ^ y2\n",
    "        differential_prob[dx, dy] += 1 # Frequency of each dx,dy pair is counted for a single SBox\n",
    "\n",
    "diff_prob_table = [[differential_prob[dx, dy] for dy in range(16)] for dx in range(16)]\n",
    "print(\"The following table shows the frequency of different difference pairs for a single SBox:\\n\")\n",
    "print_table(diff_prob_table)"
   ]
  },
  {
   "cell_type": "markdown",
   "metadata": {},
   "source": [
    "### Optimal SBox configurations\n",
    "In this part, optimal configurations for SBoxes are found using depth first search. The output delP and delU4 pairs that occur with a high probability are generated.\n",
    "\n",
    "Only high probability configurations such that only 2 or less SBoxes in round 4 get non-zero inputs are considered.\n",
    "\n",
    "The SBox differential pairs are explored in order of highest probability first. A minimum probability for paths is also maintained. No configuration paths that have lower probability of occuring than the minimum is explored any further. This value is updated every time an optimal configuration is found. The plaintexts are tested in a random order, since this increases probability of encountering a high probability differential pair early. Encountering high probability pair early will decrease runtime since we no longer need to explore paths will less probability.\n",
    "\n",
    "This still takes some time to run (a few minutes), but only needs to be run once if SBox and permutation mappings stay constant. To save time, parameters for search, such as pruning threshold and number of high probability differential pairs to use per input differential can be adjusted for finding approximate optimal answers instantaneously. The number of plaintexts being tested may also be lowered to speed things up.\n",
    "\n",
    "For demonstration, previously run output is saved. To run the function, uncomment line 105."
   ]
  },
  {
   "cell_type": "code",
   "execution_count": 6,
   "metadata": {},
   "outputs": [
    {
     "name": "stdout",
     "output_type": "stream",
     "text": [
      "CPU times: user 3min 22s, sys: 35.2 ms, total: 3min 23s\n",
      "Wall time: 3min 23s\n",
      "For the following configurations, there exists a DelP for which a DelU4 occurs with high probability:\n",
      "\n",
      "(Fraction(3, 256), (11, 0, 11, 0), (8, 0, 0, 8), [((1, 1), (11, 2), Fraction(1, 2)), ((1, 3), (11, 2), Fraction(1, 2)), ((2, 3), (10, 8), Fraction(3, 8)), ((3, 1), (2, 9), Fraction(1, 8))]) \n",
      "\n",
      "(Fraction(9, 256), (11, 0, 11, 0), (0, 8, 0, 8), [((1, 1), (11, 2), Fraction(1, 2)), ((1, 3), (11, 2), Fraction(1, 2)), ((2, 3), (10, 8), Fraction(3, 8)), ((3, 1), (2, 5), Fraction(3, 8))]) \n",
      "\n",
      "(Fraction(81, 4096), (0, 15, 0, 0), (0, 6, 6, 0), [((1, 2), (15, 4), Fraction(3, 8)), ((2, 2), (4, 6), Fraction(3, 8)), ((3, 2), (4, 6), Fraction(3, 8)), ((3, 3), (4, 6), Fraction(3, 8))]) \n",
      "\n",
      "(Fraction(9, 256), (11, 0, 11, 0), (0, 8, 0, 8), [((1, 1), (11, 2), Fraction(1, 2)), ((1, 3), (11, 2), Fraction(1, 2)), ((2, 3), (10, 8), Fraction(3, 8)), ((3, 1), (2, 5), Fraction(3, 8))]) \n",
      "\n"
     ]
    }
   ],
   "source": [
    "def dfs():\n",
    "# Returns a list of optimal SBox configurations\n",
    "# Each config is a tuple (probability, DelP, DelU4, list_of((SBox position, SBox I/O, SBox probability)))\n",
    "    optimal_config = [(Fraction(0), (0,0,0,0), (0,0,0,0), ((1,1), (0,0), Fraction(1))) for _ in range(4)]\n",
    "    sorted_dif_prob = defaultdict(list)\n",
    "    for dx, dy in differential_prob:\n",
    "        if differential_prob[dx,dy] > 0:\n",
    "            sorted_dif_prob[dx].append((Fraction(differential_prob[dx,dy], 16), dy))\n",
    "    for dx in sorted_dif_prob:\n",
    "        sorted_dif_prob[dx].sort(reverse=True) # Differential outputs sorted according to probability\n",
    "        #sorted_dif_prob[dx] = sorted_dif_prob[dx][:3] # Limit number of paths per input differential\n",
    "    minprob = Fraction(0, 256) # Change to only consider configurations that guarantee a certain probability\n",
    "    sbox_positions = [(i, j) for i in range(1, 4) for j in range(1, 5)]\n",
    "    Ps = list(product([hx for hx in range(16)], repeat=4)) # All possible Plaintexts are tested\n",
    "    random.shuffle(Ps) # Checking P in random order, to increase probability of getting high prob pair early\n",
    "    #Ps = Ps[:1000] # Limit number of plaintexts being tested\n",
    "    for P in Ps:\n",
    "        if P == (0,0,0,0): # delP = (0,0,0,0) is not tested, since for the same P, we'll get the same U and C\n",
    "            continue\n",
    "        U, V = [P], []\n",
    "        # Setting up stack and conditions for depth-first search\n",
    "        stack = [((1,1), (P[0],-1), Fraction(1))]\n",
    "        si = [-1]\n",
    "        prob = [Fraction(1)] * 2\n",
    "        # Running depth-first search\n",
    "        while len(stack) > 0:\n",
    "            last = stack.pop()\n",
    "            lasti = si.pop()\n",
    "            prob.pop()\n",
    "            if last[0][1] == 4: # If config of last SBox of row is changed, U,V values are updated\n",
    "                U.pop()\n",
    "                V.pop()\n",
    "            lastdx = last[1][0]\n",
    "            if lasti < len(sorted_dif_prob[lastdx]) - 1:\n",
    "                lasti += 1\n",
    "                lastdif = sorted_dif_prob[lastdx][lasti]\n",
    "                pos = last[0]\n",
    "                dif = (lastdx, lastdif[1])\n",
    "                pr = lastdif[0]\n",
    "                last = (pos, dif, pr)\n",
    "                stack.append(last)\n",
    "                si.append(lasti)\n",
    "                prob.append(prob[-1] * pr)\n",
    "                if pos[1] == 4: # If config of last SBox of row is changed, U,V values are updated\n",
    "                    smap = [0]*16\n",
    "                    v = []\n",
    "                    for i in range(4):\n",
    "                        dif = stack[-4 + i][1]\n",
    "                        smap[dif[0]] = dif[1]\n",
    "                        v.append(substitution_op(U[-1][i], smap))\n",
    "                    V.append(v)\n",
    "                    U.append(permutation_row(V[-1]))\n",
    "                if prob[-1] < minprob: # Skip config paths of lower probability than those we already found\n",
    "                    continue\n",
    "                for pos in sbox_positions[len(stack):]: # Iterating through unset configs, assigning new ones\n",
    "                    u = U[-1][pos[1]-1]\n",
    "                    udif = sorted_dif_prob[u][0]\n",
    "                    pr = udif[0]\n",
    "                    next_conf = (pos, (u, udif[1]), pr)\n",
    "                    stack.append(next_conf)\n",
    "                    si.append(0)\n",
    "                    prob.append(prob[-1] * pr)\n",
    "                    if pos[1] == 4: # If config of last SBox of row is changed, U,V values are updated\n",
    "                        smap = [0]*16\n",
    "                        v = []\n",
    "                        for i in range(4):\n",
    "                            dif = stack[-4 + i][1]\n",
    "                            smap[dif[0]] = dif[1]\n",
    "                            v.append(substitution_op(U[-1][i], smap))\n",
    "                        V.append(v)\n",
    "                        U.append(permutation_row(V[-1]))\n",
    "\n",
    "                    if prob[-1] < minprob: # Skip config path of lower probability than those we already found\n",
    "                        break\n",
    "                else:\n",
    "                    if U[-1].count(0) >= 2: # if dU only affects <= 2 sboxes\n",
    "                        for i in range(4): # Choose highest probability config for each target partial key\n",
    "                            if U[-1][i] > 0 and prob[-1] > optimal_config[i][0]:\n",
    "                                optimal_config[i] = (prob[-1], P, U[-1], [c for c in stack if sum(c[1]) > 0])\n",
    "                                minprob = min(p[0] for p in optimal_config)\n",
    "                \n",
    "    return optimal_config\n",
    "\n",
    "\"\"\"\n",
    "# According to the document\n",
    "optimal_config = [(Fraction(27, 1024), (0,0xB,0,0), (0,6,0,6),[\n",
    "                   ((1,2), (0xB,2), Fraction(8, 16)),\n",
    "                  ((2,3), (4,6), Fraction(6, 16)),\n",
    "                  ((3,2), (2,5), Fraction(6, 16)),\n",
    "                  ((3,3), (2,5), Fraction(6, 16))\n",
    "])]\n",
    "\"\"\"\n",
    "\n",
    "#\"\"\"\n",
    "# To save time during demonstration, this config from a previous output is assigned\n",
    "# Otherwise, this function may take about 1-5 minutes to complete execution\n",
    "optimal_config = [\n",
    "    (Fraction(3, 256), (11, 0, 11, 0), [8, 0, 0, 8], [((1, 1), (11, 2), Fraction(1, 2)), ((1, 3), (11, 2), Fraction(1, 2)), ((2, 3), (10, 8), Fraction(3, 8)), ((3, 1), (2, 9), Fraction(1, 8))]),\n",
    "    (Fraction(9, 256), (11, 0, 11, 0), [0, 8, 0, 8], [((1, 1), (11, 2), Fraction(1, 2)), ((1, 3), (11, 2), Fraction(1, 2)), ((2, 3), (10, 8), Fraction(3, 8)), ((3, 1), (2, 5), Fraction(3, 8))]),\n",
    "    (Fraction(81, 4096), (0, 0, 15, 0), [0, 5, 5, 0], [((1, 3), (15, 4), Fraction(3, 8)), ((2, 2), (2, 5), Fraction(3, 8)), ((3, 2), (4, 6), Fraction(3, 8)), ((3, 4), (4, 6), Fraction(3, 8))]),\n",
    "    (Fraction(9, 256), (11, 0, 11, 0), [0, 8, 0, 8], [((1, 1), (11, 2), Fraction(1, 2)), ((1, 3), (11, 2), Fraction(1, 2)), ((2, 3), (10, 8), Fraction(3, 8)), ((3, 1), (2, 5), Fraction(3, 8))])\n",
    "]\n",
    "#\"\"\"\n",
    "\n",
    "#%time optimal_config = dfs()\n",
    "print(\"For the following configurations, there exists a DelP for which a DelU4 occurs with high probability:\\n\")\n",
    "for c in optimal_config:\n",
    "    print(c, \"\\n\")\n",
    "\n"
   ]
  },
  {
   "cell_type": "markdown",
   "metadata": {},
   "source": [
    "### Probability for different keys\n",
    "In this part of the code, for each configuration, we run the function generate_partial_keys() to find partial keys of high probability.\n",
    "\n",
    "This function iterates through all possible partial keys in the target partial key blocks for the given configurations. It then stores the frequency of occurence of right pairs for each key. The partial key with highest probability is returned."
   ]
  },
  {
   "cell_type": "code",
   "execution_count": 7,
   "metadata": {},
   "outputs": [
    {
     "name": "stdout",
     "output_type": "stream",
     "text": [
      "CPU times: user 1.4 s, sys: 6.64 ms, total: 1.4 s\n",
      "Wall time: 1.41 s\n",
      "The following partial keys have been found:\n",
      "(3, '?', '?', 4)\n",
      "('?', 2, '?', 4)\n",
      "('?', 2, 10, '?')\n",
      "('?', 2, '?', 4)\n"
     ]
    }
   ],
   "source": [
    "partial_generations = []\n",
    "def generate_partial_keys(config):\n",
    "    confProb, confdP, confdU4, confs = config\n",
    "    # Choose random x1s, generate x2s from them using plaintext differential from config\n",
    "    X1s = list(product((hx for hx in range(16)), repeat=4))\n",
    "    random.shuffle(X1s)\n",
    "    X1s = X1s[:800] # Limit number of chosen plaintexts to use for the attack\n",
    "    X2s = [xor_list(x1, confdP) for x1 in X1s]\n",
    "    C = {tuple(x): spn_encrypt(x) for x in X1s+X2s}\n",
    "    # Getting rid of pairs where 0 doesn't appear at appropriate places in ciphertext\n",
    "    X1s_, X1s = X1s, []\n",
    "    for x1, x2 in zip(X1s_, X2s):\n",
    "        c1, c2 = C[x1], C[x2]\n",
    "        dc = xor_list(c1, c2)\n",
    "        if all((dc[i] == 0 if confdU4[i] == 0 else dc[i] != 0 for i in range(4))):\n",
    "            X1s.append(x1)\n",
    "    X2s = [xor_list(x1, confdP) for x1 in X1s]\n",
    "    # Generate candidate partial keys\n",
    "    partials_to_test = [_ for _ in product(*[[_ for _ in range(16)] if hx > 0 else [\"?\"] for hx in confdU4])]\n",
    "    partials_probability = defaultdict(Fraction)\n",
    "    # For each partial key, go through every filtered pair and count probability for right pairs\n",
    "    for partial_key in partials_to_test:\n",
    "        dec_key = ((0,0,0,0), partial_key) # Key used for decryption function\n",
    "        for x1, x2 in zip(X1s, X2s):\n",
    "            c1, c2 = C[x1], C[x2] # Real ciphertexts are used to generate value of U by decrypting last round\n",
    "            u41, u42 = spn_decrypt(c1, rounds=1, Key=dec_key), spn_decrypt(c2, rounds=1, Key=dec_key)\n",
    "            du4 = xor_list(u41, u42)\n",
    "            if all((u == cu for u, cu in zip(du4, confdU4))): # Count right pairs found for each tested key\n",
    "                partials_probability[partial_key] += Fraction(1,len(X1s_))\n",
    "    partial_generations.append((config, X1s_, X1s, partials_probability)) # Data is stored for analysis\n",
    "    return max(partials_probability, key=partials_probability.get)\n",
    "\n",
    "%time partial_keys = [generate_partial_keys(oc) for oc in optimal_config]\n",
    "print(\"The following partial keys have been found:\")\n",
    "for key in partial_keys:\n",
    "    print(key)"
   ]
  },
  {
   "cell_type": "markdown",
   "metadata": {},
   "source": [
    "### Sample partial keys\n",
    "Some sample partial keys along with their probability of occuring are given below"
   ]
  },
  {
   "cell_type": "code",
   "execution_count": 8,
   "metadata": {},
   "outputs": [
    {
     "name": "stdout",
     "output_type": "stream",
     "text": [
      "Sample partial keys and their probabilities:\n",
      "(3, '?', '?', 4) \t 11/800\n",
      "(3, '?', '?', 9) \t 1/160\n",
      "(3, '?', '?', 15) \t 1/200\n",
      "(14, '?', '?', 9) \t 3/800\n",
      "(5, '?', '?', 4) \t 3/800\n"
     ]
    }
   ],
   "source": [
    "prob_dict = partial_generations[0][-1]\n",
    "prob_pair = sorted([(prob_dict[k], k) for k in prob_dict.keys()], reverse=True)\n",
    "print(\"Sample partial keys and their probabilities:\")\n",
    "for p, k in prob_pair[:13:3]:\n",
    "    print(k, \"\\t\", p)"
   ]
  },
  {
   "cell_type": "markdown",
   "metadata": {},
   "source": [
    "## Results\n",
    "The resultant partial keys occuring with high probability are combined to find the whole key of last round."
   ]
  },
  {
   "cell_type": "code",
   "execution_count": 9,
   "metadata": {},
   "outputs": [
    {
     "name": "stdout",
     "output_type": "stream",
     "text": [
      "Key found:    [3, 2, 10, 4]\n",
      "Original key: (3, 2, 10, 4)\n"
     ]
    }
   ],
   "source": [
    "whole_key = [\"?\", \"?\", \"?\", \"?\"]\n",
    "for pk in partial_keys:\n",
    "    for i in range(4):\n",
    "        if type(pk[i]) is int:\n",
    "            whole_key[i] = pk[i]\n",
    "print(\"Key found:   \", whole_key)\n",
    "print(\"Original key:\", K[4])"
   ]
  },
  {
   "cell_type": "markdown",
   "metadata": {},
   "source": [
    "## Conclusion\n",
    "The cryptanalysis code is capable of attacking the spn_encrypt function implemented according to the toy cipher. It uses all the techniques given in the [document](https://www.engr.mun.ca/~howard/PAPERS/ldc_tutorial.pdf) and uses them to carry out the differential cryptanalysis attack.\n",
    "\n",
    "The manually determined parameters could have been found automatically by employing binary search and choosing parameter based on code execution times encountered during the search. This was not done since the code would become unnecessarily convoluted and wouldn't be suitable for demonstration purposes."
   ]
  }
 ],
 "metadata": {
  "kernelspec": {
   "display_name": "Python 3",
   "language": "python",
   "name": "python3"
  },
  "language_info": {
   "codemirror_mode": {
    "name": "ipython",
    "version": 3
   },
   "file_extension": ".py",
   "mimetype": "text/x-python",
   "name": "python",
   "nbconvert_exporter": "python",
   "pygments_lexer": "ipython3",
   "version": "3.9.4"
  }
 },
 "nbformat": 4,
 "nbformat_minor": 4
}
